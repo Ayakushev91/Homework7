{
 "cells": [
  {
   "cell_type": "markdown",
   "metadata": {},
   "source": [
    "## Домашнее задание к лекции «Исключения и обработка ошибок»"
   ]
  },
  {
   "cell_type": "markdown",
   "metadata": {},
   "source": [
    "### Задание 1"
   ]
  },
  {
   "cell_type": "code",
   "execution_count": 30,
   "metadata": {},
   "outputs": [
    {
     "name": "stdout",
     "output_type": "stream",
     "text": [
      " 2002-10-02 00:00:00 \n",
      " 2013-10-11 00:00:00 \n",
      " 1977-08-18 00:00:00\n",
      " Wednesday, October 02, 2002 \n",
      " Friday, 11.10.13 \n",
      " Thursday, 18 August 1977\n"
     ]
    }
   ],
   "source": [
    "from datetime import datetime as DT\n",
    "The_Moscow_Times = 'Wednesday, October 2, 2002'\n",
    "The_Moscow_Times_datetime = DT.strptime(The_Moscow_Times, '%A, %B %d, %Y')\n",
    "\n",
    "The_Guardian = 'Friday, 11.10.13'\n",
    "The_Guardian_datetime = DT.strptime(The_Guardian, '%A, %d.%m.%y')\n",
    "\n",
    "Daily_News = 'Thursday, 18 August 1977'\n",
    "Daily_News_datetime = DT.strptime(Daily_News, '%A, %d %B %Y')\n",
    "print('',The_Moscow_Times_datetime, '\\n', The_Guardian_datetime, '\\n', Daily_News_datetime)\n",
    "\n",
    "The_Moscow_Times_str = The_Moscow_Times_datetime.strftime('%A, %B %d, %Y')\n",
    "The_Guardian_str = The_Guardian_datetime.strftime('%A, %d.%m.%y')\n",
    "Daily_News_str = Daily_News_datetime.strftime('%A, %d %B %Y')\n",
    "print('', The_Moscow_Times_str, '\\n', The_Guardian_str, '\\n', Daily_News_str)"
   ]
  },
  {
   "cell_type": "markdown",
   "metadata": {},
   "source": [
    "### Задание 2"
   ]
  },
  {
   "cell_type": "code",
   "execution_count": 8,
   "metadata": {},
   "outputs": [
    {
     "name": "stdout",
     "output_type": "stream",
     "text": [
      "дата \"2018-04-02\" : True\n",
      "дата \"2018-02-29\" : False\n",
      "дата \"2018-19-02\" : False\n"
     ]
    }
   ],
   "source": [
    "from datetime import datetime\n",
    "stream = ['2018-04-02', '2018-02-29', '2018-19-02']\n",
    "\n",
    "def validate(date_in_str):\n",
    "    try:\n",
    "        if date_in_str != datetime.strptime(date_in_str, '%Y-%m-%d'):\n",
    "            return print('дата \"{}\" : {}'.format(date_in_str, True))\n",
    "    except ValueError:\n",
    "        return print('дата \"{}\" : {}'.format(date_in_str, False))\n",
    "\n",
    "for dt in stream:\n",
    "    validate(dt)"
   ]
  },
  {
   "cell_type": "markdown",
   "metadata": {},
   "source": [
    "### Задание 3"
   ]
  },
  {
   "cell_type": "code",
   "execution_count": 166,
   "metadata": {},
   "outputs": [
    {
     "data": {
      "text/plain": [
       "[]"
      ]
     },
     "execution_count": 166,
     "metadata": {},
     "output_type": "execute_result"
    }
   ],
   "source": [
    "from datetime import datetime, timedelta\n",
    "start_date = '2020-01-30'\n",
    "end_date = '2020-01-29'\n",
    "\n",
    "def date_range(start_date, end_date):\n",
    "    try:\n",
    "        start_date_dt = datetime.strptime(start_date, '%Y-%m-%d')\n",
    "        end_date_dt = datetime.strptime(end_date, '%Y-%m-%d')\n",
    "        delta = end_date_dt - start_date_dt\n",
    "        count = delta.days + 1\n",
    "        int_date = [(end_date_dt - timedelta(days = x)).strftime('%Y-%m-%d') for x in range(count) if end_date_dt > start_date_dt]\n",
    "        return int_date\n",
    "    except ValueError:\n",
    "        return print('False date')\n",
    "date_range(start_date, end_date)"
   ]
  }
 ],
 "metadata": {
  "kernelspec": {
   "display_name": "Python 3",
   "language": "python",
   "name": "python3"
  },
  "language_info": {
   "codemirror_mode": {
    "name": "ipython",
    "version": 3
   },
   "file_extension": ".py",
   "mimetype": "text/x-python",
   "name": "python",
   "nbconvert_exporter": "python",
   "pygments_lexer": "ipython3",
   "version": "3.8.5"
  }
 },
 "nbformat": 4,
 "nbformat_minor": 4
}
